{
  "cells": [
    {
      "cell_type": "markdown",
      "metadata": {
        "id": "view-in-github",
        "colab_type": "text"
      },
      "source": [
        "<a href=\"https://colab.research.google.com/github/krnvz/Tutoriales/blob/main/Tendencias_de_b%C3%BAsqueda_en_Google_utilizando_PyTrends_en%C2%A0Python.ipynb\" target=\"_parent\"><img src=\"https://colab.research.google.com/assets/colab-badge.svg\" alt=\"Open In Colab\"/></a>"
      ]
    },
    {
      "cell_type": "markdown",
      "metadata": {
        "id": "sOoBPY4WCssx"
      },
      "source": [
        "# Tendencias de búsqueda en Google utilizando PyTrends en Python\n",
        "\n",
        "\n",
        "Comencemos por instalar el paquete e importar el método TrendReq desde el módulo de request de PyTrends. Además, importemos las bibliotecas Pandas y Matplotlib para almacenar y visualizar los datos."
      ]
    },
    {
      "cell_type": "code",
      "execution_count": 1,
      "metadata": {
        "id": "TKW4NRB7CIdb"
      },
      "outputs": [],
      "source": [
        "# Instalación del paquete \n",
        "%%capture \n",
        "!pip install pytrends\n",
        "\n",
        "# Importar las librerías necesarias para almacenar y visualizar los datos\n",
        "import pandas as pd        \n",
        "import matplotlib.pyplot as plt\n",
        "from pytrends.request import TrendReq              \n"
      ]
    },
    {
      "cell_type": "markdown",
      "source": [
        "Ahora podemos establecer una conexión con Google. Existen varias opciones para ajustar [los parámetros de conexión](https://pypi.org/project/pytrends/#api), pero por ahora utilizaremos el código de abajo:\n",
        "\n",
        "Donde destacan 2 parámetros principales:\n",
        "* ` hl u hosting language`: es el lenguaje que se utilizará para acceder a Google Trends (se pueden obtener los demás idiomas combinando los c[ódigos de idiomas](https://omegat.sourceforge.io/manual-standard/es/appendix.languages.html), con los [códigos de país](https://www.datosmundial.com/codigos-de-pais.php))\n",
        "* `tz o time zone`: la zona horaria en minutos que se usará como referencia ( [aquí](https://forbrains.co.uk/international_tools/earth_timezones?ref=hackernoon.com) podemos encontrar los valores para otras zonas horarias)"
      ],
      "metadata": {
        "id": "T07iFCRJpgvc"
      }
    },
    {
      "cell_type": "code",
      "execution_count": 2,
      "metadata": {
        "id": "gsjvWDdUC48W"
      },
      "outputs": [],
      "source": [
        "# Crear conexión a Goiogle Trendsg\n",
        "pytrend = TrendReq(hl = 'es-CL', tz = 180)\n"
      ]
    },
    {
      "cell_type": "markdown",
      "metadata": {
        "id": "kD-ooMpkwC3M"
      },
      "source": [
        "#### **Generar carga útil**\n",
        "\n",
        "Una vez que tenemos la conexión en funcionamiento, procedemos a generar una consulta con las palabras que deseamos buscar en Google Trends (máximo 5), con el método `pytrend.build_payload()`.\n",
        "\n",
        "Parámetros:\n",
        "* `kw_list` = [ ]  → lista de keywords para buscar, con máximo 5 kw.\n",
        "* `cat` =  → Categoria para restringir la búsqueda [(categorias disponibles)](https://github.com/pat310/google-trends-api/wiki/Google-Trends-Categories)\n",
        "* `timeframe` = \" \" → Fecha de inicio (predeterminado: 'today 5-y', todo: 'all', fecha especificia: '2016-12-14 2017-01-25')\n",
        "* `geo` = \"\"  → [abreviatura de dos letras del pais](https://laendercode.net/es/2-letter-list.html) ej_'CL' para Chile\n",
        "* `gprop` = \" \"   a que propiedad de Google filtrar ('images', 'news', 'youtube' o 'froogle' para Google Sghopping)\n",
        "* `tz` = \" \"  → desplazamiento de [zona horaria](https://forbrains.co.uk/international_tools/earth_timezones?ref=hackernoon.com) en minutos."
      ]
    },
    {
      "cell_type": "code",
      "execution_count": 4,
      "metadata": {
        "id": "_Fb4M2pWwChP"
      },
      "outputs": [],
      "source": [
        "# Definir la o las parabras de interés\n",
        "kw_list = ['pedidosya', 'rappi', 'uber eats', 'glovo']\n",
        "\n",
        "# Generar una consulta para la geolocalización deseada\n",
        "pytrend.build_payload(kw_list= kw_list, geo = 'CL')\n",
        "\n"
      ]
    },
    {
      "cell_type": "markdown",
      "source": [
        "Con la consulta creada, podemos comenzar a extraer información útil empleando alguno de los siguientes métodos de Pytrends."
      ],
      "metadata": {
        "id": "plW-wDpysvrA"
      }
    },
    {
      "cell_type": "markdown",
      "metadata": {
        "id": "U_YR-EdjOijv"
      },
      "source": [
        "#### **MÉTODOS DISPONIBLES**\n",
        "Están disponibles los siguientes métodos:\n",
        "\n",
        "* **Interés a lo largo del tiempo:** devuelve datos históricos indexados sobre cuándo se buscó más la palabra clave, como se muestra en la sección Interés a lo largo del tiempo de Google Trends.\n",
        "`pytrend.interest_over_time()`\n",
        "  * Parametros: \n",
        "    * Sin parametros\n",
        "\n",
        "* **Interés histórico por hora:** devuelve datos históricos, indexados y por hora de cuándo se buscó más la palabra clave, como se muestra en la sección Interés a lo largo del tiempo de Google Trends. Envía múltiples solicitudes a Google, cada una de las cuales recupera una semana de datos por hora. Parece que esta sería la única forma de obtener datos históricos por horas.\n",
        "`pytrend.get_historical_interest()`\n",
        "  * Parametros: \n",
        "    * `kw_list`: lista de key words \n",
        "    * `year_start, month_start, day_start, hour_start, year_end, month_end, day_end, hour_end`: Detalles temporales (predeterminado: inicio el 01-01-2018 y fin )\n",
        "\n",
        "* **Interés por región:** devuelve datos sobre dónde se busca más la palabra clave, como se muestra en la sección Interés por región de Google \n",
        "`Trends.pytrend.interest_by_region()`\n",
        "  * Parametros: \n",
        "    * `resolution`: Devuelve datos a nivel de 'CITY', 'COUNTRY', 'DMA' Y 'REGION'\n",
        "    * `inc_low_vol`: True / False (también incluye datos de tendencias de Google para países / regiones de bajo volumen)\n",
        "    * `inc_geo_code`: True / False (incluye códigos ISO de países junto con los nombres en los datos)\n",
        "\n",
        "* **Temas relacionados:** devuelve datos para las palabras clave relacionadas con una palabra clave proporcionada que se muestra en la sección Temas relacionados de Google Trends. \n",
        "`pytrend.related_topics()`\n",
        "  * Parametros: \n",
        "    * Sin parametros\n",
        "\n",
        "* **Consultas relacionadas:** devuelve datos para las palabras clave relacionadas con una palabra clave proporcionada que se muestra en la sección Consultas relacionadas de Google Trends.\n",
        "`pytrend.related_queries()`\n",
        "  * Parametros: \n",
        "    * Sin parametros\n",
        "\n",
        "* **Tendencias de búsquedas:** devuelve datos de las últimas búsquedas de tendencias que se muestran en la sección Tendencias de búsquedas de Google Trends. (tendencias de búsqueda en tiempo real para el país especificado)\n",
        "`pytrend.trending_searches(pn='united_states')`\n",
        "  * Parametros: \n",
        "    * `np`: Pais en el cual se quiere consultar (codigos de paises)\n",
        "* **Gráficos principales:** devuelve los datos de un tema determinado que se muestran en la sección Gráficos principales de Google Trends.\n",
        "`pytrend.top_charts()`\n",
        "  * Parametros: \n",
        "    * `date`: YYYY o YYYYMM, ej: 201912 - diciembre de 2019\n",
        "* **Sugerencias:** devuelve una lista de palabras clave sugeridas adicionales que se pueden usar para refinar una búsqueda de tendencias.\n",
        "`pytrend.suggestions(keyword)`\n",
        "  * Parametros: \n",
        "    * `keyword`: palabra clave para obtener la sugerencia"
      ]
    },
    {
      "cell_type": "markdown",
      "metadata": {
        "id": "w7qYIb5S5cU5"
      },
      "source": [
        "Recuerda que la explicación de que significan especificamente los valores entregados por la APi, estan [aquí](https://)  ESCRIBIR EL LINK "
      ]
    },
    {
      "cell_type": "markdown",
      "metadata": {
        "id": "ugTmIfMwvcp0"
      },
      "source": [
        "#### **Interés a lo largo del tiempo**\n",
        "Usando el método `pytrend.interest_over_time()` obtendremos datos históricos indexados sobre cuándo se buscó más la palabra clave, sin necesidad de especificar ningún parámetro."
      ]
    },
    {
      "cell_type": "code",
      "source": [
        "# Extracción de datos relacionados con el interés a lo largo del tiempo de las palabras consultadas\n",
        "over_time = pytrend.interest_over_time().drop('isPartial', axis = 1)\n",
        "over_time.head()"
      ],
      "metadata": {
        "id": "1YHOZmrRDL5e",
        "colab": {
          "base_uri": "https://localhost:8080/",
          "height": 237
        },
        "outputId": "238688ac-f672-4868-9f93-454cb1565a41"
      },
      "execution_count": 5,
      "outputs": [
        {
          "output_type": "execute_result",
          "data": {
            "text/plain": [
              "            pedidosya  rappi  uber eats  glovo\n",
              "date                                          \n",
              "2017-05-21          4      0          0      1\n",
              "2017-05-28          2      0          0      0\n",
              "2017-06-04          7      0          0      0\n",
              "2017-06-11          5      0          0      0\n",
              "2017-06-18          2      0          0      0"
            ],
            "text/html": [
              "\n",
              "  <div id=\"df-d729000e-b96a-487f-b12b-1f14b044b105\">\n",
              "    <div class=\"colab-df-container\">\n",
              "      <div>\n",
              "<style scoped>\n",
              "    .dataframe tbody tr th:only-of-type {\n",
              "        vertical-align: middle;\n",
              "    }\n",
              "\n",
              "    .dataframe tbody tr th {\n",
              "        vertical-align: top;\n",
              "    }\n",
              "\n",
              "    .dataframe thead th {\n",
              "        text-align: right;\n",
              "    }\n",
              "</style>\n",
              "<table border=\"1\" class=\"dataframe\">\n",
              "  <thead>\n",
              "    <tr style=\"text-align: right;\">\n",
              "      <th></th>\n",
              "      <th>pedidosya</th>\n",
              "      <th>rappi</th>\n",
              "      <th>uber eats</th>\n",
              "      <th>glovo</th>\n",
              "    </tr>\n",
              "    <tr>\n",
              "      <th>date</th>\n",
              "      <th></th>\n",
              "      <th></th>\n",
              "      <th></th>\n",
              "      <th></th>\n",
              "    </tr>\n",
              "  </thead>\n",
              "  <tbody>\n",
              "    <tr>\n",
              "      <th>2017-05-21</th>\n",
              "      <td>4</td>\n",
              "      <td>0</td>\n",
              "      <td>0</td>\n",
              "      <td>1</td>\n",
              "    </tr>\n",
              "    <tr>\n",
              "      <th>2017-05-28</th>\n",
              "      <td>2</td>\n",
              "      <td>0</td>\n",
              "      <td>0</td>\n",
              "      <td>0</td>\n",
              "    </tr>\n",
              "    <tr>\n",
              "      <th>2017-06-04</th>\n",
              "      <td>7</td>\n",
              "      <td>0</td>\n",
              "      <td>0</td>\n",
              "      <td>0</td>\n",
              "    </tr>\n",
              "    <tr>\n",
              "      <th>2017-06-11</th>\n",
              "      <td>5</td>\n",
              "      <td>0</td>\n",
              "      <td>0</td>\n",
              "      <td>0</td>\n",
              "    </tr>\n",
              "    <tr>\n",
              "      <th>2017-06-18</th>\n",
              "      <td>2</td>\n",
              "      <td>0</td>\n",
              "      <td>0</td>\n",
              "      <td>0</td>\n",
              "    </tr>\n",
              "  </tbody>\n",
              "</table>\n",
              "</div>\n",
              "      <button class=\"colab-df-convert\" onclick=\"convertToInteractive('df-d729000e-b96a-487f-b12b-1f14b044b105')\"\n",
              "              title=\"Convert this dataframe to an interactive table.\"\n",
              "              style=\"display:none;\">\n",
              "        \n",
              "  <svg xmlns=\"http://www.w3.org/2000/svg\" height=\"24px\"viewBox=\"0 0 24 24\"\n",
              "       width=\"24px\">\n",
              "    <path d=\"M0 0h24v24H0V0z\" fill=\"none\"/>\n",
              "    <path d=\"M18.56 5.44l.94 2.06.94-2.06 2.06-.94-2.06-.94-.94-2.06-.94 2.06-2.06.94zm-11 1L8.5 8.5l.94-2.06 2.06-.94-2.06-.94L8.5 2.5l-.94 2.06-2.06.94zm10 10l.94 2.06.94-2.06 2.06-.94-2.06-.94-.94-2.06-.94 2.06-2.06.94z\"/><path d=\"M17.41 7.96l-1.37-1.37c-.4-.4-.92-.59-1.43-.59-.52 0-1.04.2-1.43.59L10.3 9.45l-7.72 7.72c-.78.78-.78 2.05 0 2.83L4 21.41c.39.39.9.59 1.41.59.51 0 1.02-.2 1.41-.59l7.78-7.78 2.81-2.81c.8-.78.8-2.07 0-2.86zM5.41 20L4 18.59l7.72-7.72 1.47 1.35L5.41 20z\"/>\n",
              "  </svg>\n",
              "      </button>\n",
              "      \n",
              "  <style>\n",
              "    .colab-df-container {\n",
              "      display:flex;\n",
              "      flex-wrap:wrap;\n",
              "      gap: 12px;\n",
              "    }\n",
              "\n",
              "    .colab-df-convert {\n",
              "      background-color: #E8F0FE;\n",
              "      border: none;\n",
              "      border-radius: 50%;\n",
              "      cursor: pointer;\n",
              "      display: none;\n",
              "      fill: #1967D2;\n",
              "      height: 32px;\n",
              "      padding: 0 0 0 0;\n",
              "      width: 32px;\n",
              "    }\n",
              "\n",
              "    .colab-df-convert:hover {\n",
              "      background-color: #E2EBFA;\n",
              "      box-shadow: 0px 1px 2px rgba(60, 64, 67, 0.3), 0px 1px 3px 1px rgba(60, 64, 67, 0.15);\n",
              "      fill: #174EA6;\n",
              "    }\n",
              "\n",
              "    [theme=dark] .colab-df-convert {\n",
              "      background-color: #3B4455;\n",
              "      fill: #D2E3FC;\n",
              "    }\n",
              "\n",
              "    [theme=dark] .colab-df-convert:hover {\n",
              "      background-color: #434B5C;\n",
              "      box-shadow: 0px 1px 3px 1px rgba(0, 0, 0, 0.15);\n",
              "      filter: drop-shadow(0px 1px 2px rgba(0, 0, 0, 0.3));\n",
              "      fill: #FFFFFF;\n",
              "    }\n",
              "  </style>\n",
              "\n",
              "      <script>\n",
              "        const buttonEl =\n",
              "          document.querySelector('#df-d729000e-b96a-487f-b12b-1f14b044b105 button.colab-df-convert');\n",
              "        buttonEl.style.display =\n",
              "          google.colab.kernel.accessAllowed ? 'block' : 'none';\n",
              "\n",
              "        async function convertToInteractive(key) {\n",
              "          const element = document.querySelector('#df-d729000e-b96a-487f-b12b-1f14b044b105');\n",
              "          const dataTable =\n",
              "            await google.colab.kernel.invokeFunction('convertToInteractive',\n",
              "                                                     [key], {});\n",
              "          if (!dataTable) return;\n",
              "\n",
              "          const docLinkHtml = 'Like what you see? Visit the ' +\n",
              "            '<a target=\"_blank\" href=https://colab.research.google.com/notebooks/data_table.ipynb>data table notebook</a>'\n",
              "            + ' to learn more about interactive tables.';\n",
              "          element.innerHTML = '';\n",
              "          dataTable['output_type'] = 'display_data';\n",
              "          await google.colab.output.renderOutput(dataTable, element);\n",
              "          const docLink = document.createElement('div');\n",
              "          docLink.innerHTML = docLinkHtml;\n",
              "          element.appendChild(docLink);\n",
              "        }\n",
              "      </script>\n",
              "    </div>\n",
              "  </div>\n",
              "  "
            ]
          },
          "metadata": {},
          "execution_count": 5
        }
      ]
    },
    {
      "cell_type": "code",
      "source": [
        "# Apoyo formato gráficas\n",
        "size_title = 20\n",
        "size_label = 13\n",
        "size_plot = (20, 8)\n",
        "\n",
        "# Visualización de las tendencias \n",
        "over_time.plot(figsize = size_plot, alpha = 0.8)\n",
        "plt.title('INTERÉS A LO LARGO DEL TIEMPO\\n', fontsize = size_title)\n",
        "plt.xlabel('TIEMPO (semanas)', fontsize = size_label)\n",
        "plt.ylabel('TENDENCIAS RELATIVAS', fontsize = size_label)\n",
        "plt.show()\n"
      ],
      "metadata": {
        "colab": {
          "base_uri": "https://localhost:8080/",
          "height": 543
        },
        "id": "i0r3zAAN8hVz",
        "outputId": "66dd474e-1f0d-428b-8d6c-1299f9d53a15"
      },
      "execution_count": 6,
      "outputs": [
        {
          "output_type": "display_data",
          "data": {
            "text/plain": [
              "<Figure size 1440x576 with 1 Axes>"
            ],
            "image/png": "[encoded data removed]"
          },
          "metadata": {
            "needs_background": "light"
          }
        }
      ]
    },
    {
      "cell_type": "markdown",
      "metadata": {
        "id": "9pjwTK1z3MHn"
      },
      "source": [
        "#### **Interés histórico por hora**\n",
        "\n",
        "En caso de que la granularidad del método anterior no sea suficiente, podemos obtener datos históricos por hora, para las keywords de importancia. En este caso utilizaremos `pytrend.get_historical_interest()`"
      ]
    },
    {
      "cell_type": "code",
      "source": [
        "# historico por horas para 'pedidosya' para el 2020-2021\n",
        "\n",
        "kw_list = ['pedidosya']\n",
        "\n",
        "hist_20_21 = pytrend.get_historical_interest(kw_list, year_start=2020, \n",
        "                                      month_start=1, day_start=1, hour_start=0, \n",
        "                                      year_end=2021,month_end=12, day_end=31,\n",
        "                                      hour_end=23, cat=0, geo='CL', gprop='', \n",
        "                                      sleep=0).drop('isPartial', axis = 1)\n",
        "hist_20_21.tail()"
      ],
      "metadata": {
        "id": "dsYc8f7auTfv",
        "colab": {
          "base_uri": "https://localhost:8080/",
          "height": 237
        },
        "outputId": "c782f6ce-0cc1-449c-d536-0b0d86300de2"
      },
      "execution_count": 7,
      "outputs": [
        {
          "output_type": "execute_result",
          "data": {
            "text/plain": [
              "                     pedidosya  isPartial\n",
              "date                                     \n",
              "2021-12-31 19:00:00          0      False\n",
              "2021-12-31 20:00:00          0      False\n",
              "2021-12-31 21:00:00         21      False\n",
              "2021-12-31 22:00:00          0      False\n",
              "2021-12-31 23:00:00          0      False"
            ],
            "text/html": [
              "\n",
              "  <div id=\"df-f5252eea-6243-487c-812f-b234c773816d\">\n",
              "    <div class=\"colab-df-container\">\n",
              "      <div>\n",
              "<style scoped>\n",
              "    .dataframe tbody tr th:only-of-type {\n",
              "        vertical-align: middle;\n",
              "    }\n",
              "\n",
              "    .dataframe tbody tr th {\n",
              "        vertical-align: top;\n",
              "    }\n",
              "\n",
              "    .dataframe thead th {\n",
              "        text-align: right;\n",
              "    }\n",
              "</style>\n",
              "<table border=\"1\" class=\"dataframe\">\n",
              "  <thead>\n",
              "    <tr style=\"text-align: right;\">\n",
              "      <th></th>\n",
              "      <th>pedidosya</th>\n",
              "      <th>isPartial</th>\n",
              "    </tr>\n",
              "    <tr>\n",
              "      <th>date</th>\n",
              "      <th></th>\n",
              "      <th></th>\n",
              "    </tr>\n",
              "  </thead>\n",
              "  <tbody>\n",
              "    <tr>\n",
              "      <th>2021-12-31 19:00:00</th>\n",
              "      <td>0</td>\n",
              "      <td>False</td>\n",
              "    </tr>\n",
              "    <tr>\n",
              "      <th>2021-12-31 20:00:00</th>\n",
              "      <td>0</td>\n",
              "      <td>False</td>\n",
              "    </tr>\n",
              "    <tr>\n",
              "      <th>2021-12-31 21:00:00</th>\n",
              "      <td>21</td>\n",
              "      <td>False</td>\n",
              "    </tr>\n",
              "    <tr>\n",
              "      <th>2021-12-31 22:00:00</th>\n",
              "      <td>0</td>\n",
              "      <td>False</td>\n",
              "    </tr>\n",
              "    <tr>\n",
              "      <th>2021-12-31 23:00:00</th>\n",
              "      <td>0</td>\n",
              "      <td>False</td>\n",
              "    </tr>\n",
              "  </tbody>\n",
              "</table>\n",
              "</div>\n",
              "      <button class=\"colab-df-convert\" onclick=\"convertToInteractive('df-f5252eea-6243-487c-812f-b234c773816d')\"\n",
              "              title=\"Convert this dataframe to an interactive table.\"\n",
              "              style=\"display:none;\">\n",
              "        \n",
              "  <svg xmlns=\"http://www.w3.org/2000/svg\" height=\"24px\"viewBox=\"0 0 24 24\"\n",
              "       width=\"24px\">\n",
              "    <path d=\"M0 0h24v24H0V0z\" fill=\"none\"/>\n",
              "    <path d=\"M18.56 5.44l.94 2.06.94-2.06 2.06-.94-2.06-.94-.94-2.06-.94 2.06-2.06.94zm-11 1L8.5 8.5l.94-2.06 2.06-.94-2.06-.94L8.5 2.5l-.94 2.06-2.06.94zm10 10l.94 2.06.94-2.06 2.06-.94-2.06-.94-.94-2.06-.94 2.06-2.06.94z\"/><path d=\"M17.41 7.96l-1.37-1.37c-.4-.4-.92-.59-1.43-.59-.52 0-1.04.2-1.43.59L10.3 9.45l-7.72 7.72c-.78.78-.78 2.05 0 2.83L4 21.41c.39.39.9.59 1.41.59.51 0 1.02-.2 1.41-.59l7.78-7.78 2.81-2.81c.8-.78.8-2.07 0-2.86zM5.41 20L4 18.59l7.72-7.72 1.47 1.35L5.41 20z\"/>\n",
              "  </svg>\n",
              "      </button>\n",
              "      \n",
              "  <style>\n",
              "    .colab-df-container {\n",
              "      display:flex;\n",
              "      flex-wrap:wrap;\n",
              "      gap: 12px;\n",
              "    }\n",
              "\n",
              "    .colab-df-convert {\n",
              "      background-color: #E8F0FE;\n",
              "      border: none;\n",
              "      border-radius: 50%;\n",
              "      cursor: pointer;\n",
              "      display: none;\n",
              "      fill: #1967D2;\n",
              "      height: 32px;\n",
              "      padding: 0 0 0 0;\n",
              "      width: 32px;\n",
              "    }\n",
              "\n",
              "    .colab-df-convert:hover {\n",
              "      background-color: #E2EBFA;\n",
              "      box-shadow: 0px 1px 2px rgba(60, 64, 67, 0.3), 0px 1px 3px 1px rgba(60, 64, 67, 0.15);\n",
              "      fill: #174EA6;\n",
              "    }\n",
              "\n",
              "    [theme=dark] .colab-df-convert {\n",
              "      background-color: #3B4455;\n",
              "      fill: #D2E3FC;\n",
              "    }\n",
              "\n",
              "    [theme=dark] .colab-df-convert:hover {\n",
              "      background-color: #434B5C;\n",
              "      box-shadow: 0px 1px 3px 1px rgba(0, 0, 0, 0.15);\n",
              "      filter: drop-shadow(0px 1px 2px rgba(0, 0, 0, 0.3));\n",
              "      fill: #FFFFFF;\n",
              "    }\n",
              "  </style>\n",
              "\n",
              "      <script>\n",
              "        const buttonEl =\n",
              "          document.querySelector('#df-f5252eea-6243-487c-812f-b234c773816d button.colab-df-convert');\n",
              "        buttonEl.style.display =\n",
              "          google.colab.kernel.accessAllowed ? 'block' : 'none';\n",
              "\n",
              "        async function convertToInteractive(key) {\n",
              "          const element = document.querySelector('#df-f5252eea-6243-487c-812f-b234c773816d');\n",
              "          const dataTable =\n",
              "            await google.colab.kernel.invokeFunction('convertToInteractive',\n",
              "                                                     [key], {});\n",
              "          if (!dataTable) return;\n",
              "\n",
              "          const docLinkHtml = 'Like what you see? Visit the ' +\n",
              "            '<a target=\"_blank\" href=https://colab.research.google.com/notebooks/data_table.ipynb>data table notebook</a>'\n",
              "            + ' to learn more about interactive tables.';\n",
              "          element.innerHTML = '';\n",
              "          dataTable['output_type'] = 'display_data';\n",
              "          await google.colab.output.renderOutput(dataTable, element);\n",
              "          const docLink = document.createElement('div');\n",
              "          docLink.innerHTML = docLinkHtml;\n",
              "          element.appendChild(docLink);\n",
              "        }\n",
              "      </script>\n",
              "    </div>\n",
              "  </div>\n",
              "  "
            ]
          },
          "metadata": {},
          "execution_count": 7
        }
      ]
    },
    {
      "cell_type": "markdown",
      "source": [
        "Con la ayuda un poco de código, podemos agregar algunas columnas que nos faciliten el análisis y las visualizaciones. Especificamente, detalles de las horas del día, días del mes y de la semana."
      ],
      "metadata": {
        "id": "Cu2qAsXeXjWE"
      }
    },
    {
      "cell_type": "code",
      "source": [
        "# Agregar información adicional: horas del día, días del mes y de la semana\n",
        "hist_20_21['horas'] = hist_20_21.index.hour\n",
        "hist_20_21['dia'] = hist_20_21.index.day\n",
        "hist_20_21['dia_semana'] = hist_20_21.reset_index().date.dt.dayofweek.values # Día de la semana con lunes=0 y domingo=6.\n",
        "hist_20_21.head()       "
      ],
      "metadata": {
        "colab": {
          "base_uri": "https://localhost:8080/",
          "height": 237
        },
        "id": "MpO1YV5586KW",
        "outputId": "7ed0cf4c-a9e5-4412-9a48-9542308d1f6f"
      },
      "execution_count": 8,
      "outputs": [
        {
          "output_type": "execute_result",
          "data": {
            "text/plain": [
              "                     pedidosya  isPartial  horas  dia  dia_semana\n",
              "date                                                             \n",
              "2020-01-01 00:00:00          0      False      0    1           2\n",
              "2020-01-01 01:00:00         41      False      1    1           2\n",
              "2020-01-01 02:00:00          0      False      2    1           2\n",
              "2020-01-01 03:00:00          0      False      3    1           2\n",
              "2020-01-01 04:00:00          0      False      4    1           2"
            ],
            "text/html": [
              "\n",
              "  <div id=\"df-70eb7c92-27ee-46eb-aca6-667eb23710a1\">\n",
              "    <div class=\"colab-df-container\">\n",
              "      <div>\n",
              "<style scoped>\n",
              "    .dataframe tbody tr th:only-of-type {\n",
              "        vertical-align: middle;\n",
              "    }\n",
              "\n",
              "    .dataframe tbody tr th {\n",
              "        vertical-align: top;\n",
              "    }\n",
              "\n",
              "    .dataframe thead th {\n",
              "        text-align: right;\n",
              "    }\n",
              "</style>\n",
              "<table border=\"1\" class=\"dataframe\">\n",
              "  <thead>\n",
              "    <tr style=\"text-align: right;\">\n",
              "      <th></th>\n",
              "      <th>pedidosya</th>\n",
              "      <th>isPartial</th>\n",
              "      <th>horas</th>\n",
              "      <th>dia</th>\n",
              "      <th>dia_semana</th>\n",
              "    </tr>\n",
              "    <tr>\n",
              "      <th>date</th>\n",
              "      <th></th>\n",
              "      <th></th>\n",
              "      <th></th>\n",
              "      <th></th>\n",
              "      <th></th>\n",
              "    </tr>\n",
              "  </thead>\n",
              "  <tbody>\n",
              "    <tr>\n",
              "      <th>2020-01-01 00:00:00</th>\n",
              "      <td>0</td>\n",
              "      <td>False</td>\n",
              "      <td>0</td>\n",
              "      <td>1</td>\n",
              "      <td>2</td>\n",
              "    </tr>\n",
              "    <tr>\n",
              "      <th>2020-01-01 01:00:00</th>\n",
              "      <td>41</td>\n",
              "      <td>False</td>\n",
              "      <td>1</td>\n",
              "      <td>1</td>\n",
              "      <td>2</td>\n",
              "    </tr>\n",
              "    <tr>\n",
              "      <th>2020-01-01 02:00:00</th>\n",
              "      <td>0</td>\n",
              "      <td>False</td>\n",
              "      <td>2</td>\n",
              "      <td>1</td>\n",
              "      <td>2</td>\n",
              "    </tr>\n",
              "    <tr>\n",
              "      <th>2020-01-01 03:00:00</th>\n",
              "      <td>0</td>\n",
              "      <td>False</td>\n",
              "      <td>3</td>\n",
              "      <td>1</td>\n",
              "      <td>2</td>\n",
              "    </tr>\n",
              "    <tr>\n",
              "      <th>2020-01-01 04:00:00</th>\n",
              "      <td>0</td>\n",
              "      <td>False</td>\n",
              "      <td>4</td>\n",
              "      <td>1</td>\n",
              "      <td>2</td>\n",
              "    </tr>\n",
              "  </tbody>\n",
              "</table>\n",
              "</div>\n",
              "      <button class=\"colab-df-convert\" onclick=\"convertToInteractive('df-70eb7c92-27ee-46eb-aca6-667eb23710a1')\"\n",
              "              title=\"Convert this dataframe to an interactive table.\"\n",
              "              style=\"display:none;\">\n",
              "        \n",
              "  <svg xmlns=\"http://www.w3.org/2000/svg\" height=\"24px\"viewBox=\"0 0 24 24\"\n",
              "       width=\"24px\">\n",
              "    <path d=\"M0 0h24v24H0V0z\" fill=\"none\"/>\n",
              "    <path d=\"M18.56 5.44l.94 2.06.94-2.06 2.06-.94-2.06-.94-.94-2.06-.94 2.06-2.06.94zm-11 1L8.5 8.5l.94-2.06 2.06-.94-2.06-.94L8.5 2.5l-.94 2.06-2.06.94zm10 10l.94 2.06.94-2.06 2.06-.94-2.06-.94-.94-2.06-.94 2.06-2.06.94z\"/><path d=\"M17.41 7.96l-1.37-1.37c-.4-.4-.92-.59-1.43-.59-.52 0-1.04.2-1.43.59L10.3 9.45l-7.72 7.72c-.78.78-.78 2.05 0 2.83L4 21.41c.39.39.9.59 1.41.59.51 0 1.02-.2 1.41-.59l7.78-7.78 2.81-2.81c.8-.78.8-2.07 0-2.86zM5.41 20L4 18.59l7.72-7.72 1.47 1.35L5.41 20z\"/>\n",
              "  </svg>\n",
              "      </button>\n",
              "      \n",
              "  <style>\n",
              "    .colab-df-container {\n",
              "      display:flex;\n",
              "      flex-wrap:wrap;\n",
              "      gap: 12px;\n",
              "    }\n",
              "\n",
              "    .colab-df-convert {\n",
              "      background-color: #E8F0FE;\n",
              "      border: none;\n",
              "      border-radius: 50%;\n",
              "      cursor: pointer;\n",
              "      display: none;\n",
              "      fill: #1967D2;\n",
              "      height: 32px;\n",
              "      padding: 0 0 0 0;\n",
              "      width: 32px;\n",
              "    }\n",
              "\n",
              "    .colab-df-convert:hover {\n",
              "      background-color: #E2EBFA;\n",
              "      box-shadow: 0px 1px 2px rgba(60, 64, 67, 0.3), 0px 1px 3px 1px rgba(60, 64, 67, 0.15);\n",
              "      fill: #174EA6;\n",
              "    }\n",
              "\n",
              "    [theme=dark] .colab-df-convert {\n",
              "      background-color: #3B4455;\n",
              "      fill: #D2E3FC;\n",
              "    }\n",
              "\n",
              "    [theme=dark] .colab-df-convert:hover {\n",
              "      background-color: #434B5C;\n",
              "      box-shadow: 0px 1px 3px 1px rgba(0, 0, 0, 0.15);\n",
              "      filter: drop-shadow(0px 1px 2px rgba(0, 0, 0, 0.3));\n",
              "      fill: #FFFFFF;\n",
              "    }\n",
              "  </style>\n",
              "\n",
              "      <script>\n",
              "        const buttonEl =\n",
              "          document.querySelector('#df-70eb7c92-27ee-46eb-aca6-667eb23710a1 button.colab-df-convert');\n",
              "        buttonEl.style.display =\n",
              "          google.colab.kernel.accessAllowed ? 'block' : 'none';\n",
              "\n",
              "        async function convertToInteractive(key) {\n",
              "          const element = document.querySelector('#df-70eb7c92-27ee-46eb-aca6-667eb23710a1');\n",
              "          const dataTable =\n",
              "            await google.colab.kernel.invokeFunction('convertToInteractive',\n",
              "                                                     [key], {});\n",
              "          if (!dataTable) return;\n",
              "\n",
              "          const docLinkHtml = 'Like what you see? Visit the ' +\n",
              "            '<a target=\"_blank\" href=https://colab.research.google.com/notebooks/data_table.ipynb>data table notebook</a>'\n",
              "            + ' to learn more about interactive tables.';\n",
              "          element.innerHTML = '';\n",
              "          dataTable['output_type'] = 'display_data';\n",
              "          await google.colab.output.renderOutput(dataTable, element);\n",
              "          const docLink = document.createElement('div');\n",
              "          docLink.innerHTML = docLinkHtml;\n",
              "          element.appendChild(docLink);\n",
              "        }\n",
              "      </script>\n",
              "    </div>\n",
              "  </div>\n",
              "  "
            ]
          },
          "metadata": {},
          "execution_count": 8
        }
      ]
    },
    {
      "cell_type": "code",
      "source": [
        "# Tendencia media por hora\n",
        "df_day = hist_20_21.groupby('dia').mean()[['pedidosya']]\n",
        "# Tendencia media por día del mes\n",
        "df_hour = hist_20_21.groupby('horas').mean()[['pedidosya']]\n",
        "# Tendencia media por dia de la semana\n",
        "df_day_week = hist_20_21.drop([ 'horas'], axis = 1).groupby('dia_semana').mean()[['pedidosya']]\n",
        "# Tendencia media por hora para los días sabados\n",
        "hour_saturday = hist_20_21.query('dia_semana == 5').groupby('horas').mean()[['pedidosya']]\n"
      ],
      "metadata": {
        "id": "vvuEywLwJVTB"
      },
      "execution_count": 9,
      "outputs": []
    },
    {
      "cell_type": "markdown",
      "source": [
        "Al apoyarnos en una visualización, podemos entender de mejor forma el comportamiento de búsqueda de los chilenos, con  relación a la keyword de interés: pedidosya, para los años 2020 y 2021.\n",
        "\n",
        "Al prestar atención al comportamiento a lo largo del mes (gráfico superior derecho), resalta el hecho de que las búsquedas se intensifican a principios y fines de mes. ¿Esto se podría relacionar con las fechas habituales en las que los chilenos reciben sus sueldos?\n",
        "\n",
        "Además podriamos notas (para el período en cuestión) que en los días sabados, se concentran las frecuencias relativas de busquedas (gráfico inferior izquiedo). Puntualmente a las 1:00 hrs (en la madrugada) y apartir de las 16:00 hrs en adelante (gráfico inferior derecho)."
      ],
      "metadata": {
        "id": "1CHwoUN3Xo5h"
      }
    },
    {
      "cell_type": "code",
      "execution_count": 11,
      "metadata": {
        "colab": {
          "base_uri": "https://localhost:8080/",
          "height": 585
        },
        "id": "s2NRxYWj3Ry7",
        "outputId": "c1a1afbc-a0d5-4326-aebe-3411cfff1bb8"
      },
      "outputs": [
        {
          "output_type": "display_data",
          "data": {
            "text/plain": [
              "<Figure size 1440x576 with 4 Axes>"
            ],
            "image/png": "[encoded data removed]"
          },
          "metadata": {
            "needs_background": "light"
          }
        }
      ],
      "source": [
        "# por hora\n",
        "x1 = df_hour.index\n",
        "y1 = df_hour.pedidosya\n",
        "\n",
        "# dia del mes \n",
        "x2 = df_day.index\n",
        "y2 = df_day.pedidosya\n",
        "\n",
        "# por dia de la semana \n",
        "x3 = df_day_week.index\n",
        "y3 = df_day_week.pedidosya\n",
        "\n",
        "# por hora para los días sabados\n",
        "x4 = hour_saturday.index\n",
        "y4 = hour_saturday.pedidosya\n",
        "\n",
        " \n",
        "fig = plt.figure(figsize = size_plot)\n",
        "fig.clf()\n",
        "ax = fig.subplots(2,2)\n",
        " \n",
        "ax[0,0].bar(x1, y1, color = 'red', alpha = 0.5)\n",
        "ax[0,0].set_xlabel('TIEMPO (horas)', fontsize = size_label)\n",
        "ax[0,0].set_ylabel('TENDENCIA RELATIVA', fontsize = size_label)\n",
        "ax[0,0].set_title('PROMEDIO TENDENCIA DE BUSQUEDA POR HORA', fontsize = size_title)\n",
        "ax[0,0].set_xticks([x for x in range(24)])\n",
        "ax[0,0].set_yticks([x for x in range(0, 30, 5)])\n",
        "\n",
        "ax[0,1].bar(x2, y2, color = 'blue', alpha = 0.5)\n",
        "ax[0,1].set_xlabel('TIEMPO (días)', fontsize = size_label)\n",
        "ax[0,1].set_ylabel('TENDENCIA RELATIVA', fontsize = size_label)\n",
        "ax[0,1].set_title('PROMEDIO TENDENCIA DE BUSQUEDA POR DÍA DEL MES', fontsize = size_title)\n",
        "ax[0,1].set_xticks([x for x in range(1, 32)])\n",
        " \n",
        "ax[1,0].bar(x3, y3, color=['cyan','brown','green','pink','yellow', 'purple', 'olive'], alpha = 0.5)\n",
        "ax[1,0].set_xlabel('TIEMPO (días)', fontsize = size_label)\n",
        "ax[1,0].set_ylabel('TENDENCIA RELATIVA', fontsize = size_label)\n",
        "ax[1,0].set_title('\\nPROMEDIO TENDENCIA DE BUSQUEDA POR DÍA DE LA SEMANA', fontsize = size_title)\n",
        "ax[1,0].set_xticklabels(['','Lunes', 'Martes', 'Miercoles', 'Jueves','Viernes', 'Sabado', 'Domingo'])\n",
        "\n",
        "ax[1,1].bar(x4, y4, color = 'purple', alpha = 0.5)\n",
        "ax[1,1].set_xlabel('TIEMPO (horas)', fontsize = size_label)\n",
        "ax[1,1].set_ylabel('TENDENCIA RELATIVA', fontsize = size_label)\n",
        "ax[1,1].set_title('\\nPROMEDIO TENDENCIA DE BUSQUEDA POR HORA (Sabados)', fontsize = size_title)\n",
        "ax[1,1].set_xticks([x for x in range(24)])\n",
        "ax[1,1].set_yticks([x for x in range(0, 30, 5)])\n",
        "fig.tight_layout()\n",
        "fig.show()  "
      ]
    },
    {
      "cell_type": "markdown",
      "metadata": {
        "id": "pzMMzmdkEtwg"
      },
      "source": [
        "#### **Interés por región**\n",
        "\n",
        "Tambien tenemos la opción de analizar el lugar donde se busca más la palabra clave, de acuerdo a regiones geográficas de interés. Utilizando  `pytrend.interest_by_region()`."
      ]
    },
    {
      "cell_type": "code",
      "execution_count": 16,
      "metadata": {
        "colab": {
          "base_uri": "https://localhost:8080/",
          "height": 237
        },
        "id": "4h69E9dxEtEP",
        "outputId": "95488b64-12e5-4b4b-e1b8-7e0876cf04c2"
      },
      "outputs": [
        {
          "output_type": "execute_result",
          "data": {
            "text/plain": [
              "                                                pedidosya\n",
              "geoName                                                  \n",
              "Región de los Ríos                                    100\n",
              "Región de Antofagasta                                  58\n",
              "Región de Coquimbo                                     33\n",
              "Región Metropolitana                                   30\n",
              "Región de Magallanes y de la Antártica Chilena         30"
            ],
            "text/html": [
              "\n",
              "  <div id=\"df-3653a472-541b-4077-8963-02ff1339fbe4\">\n",
              "    <div class=\"colab-df-container\">\n",
              "      <div>\n",
              "<style scoped>\n",
              "    .dataframe tbody tr th:only-of-type {\n",
              "        vertical-align: middle;\n",
              "    }\n",
              "\n",
              "    .dataframe tbody tr th {\n",
              "        vertical-align: top;\n",
              "    }\n",
              "\n",
              "    .dataframe thead th {\n",
              "        text-align: right;\n",
              "    }\n",
              "</style>\n",
              "<table border=\"1\" class=\"dataframe\">\n",
              "  <thead>\n",
              "    <tr style=\"text-align: right;\">\n",
              "      <th></th>\n",
              "      <th>pedidosya</th>\n",
              "    </tr>\n",
              "    <tr>\n",
              "      <th>geoName</th>\n",
              "      <th></th>\n",
              "    </tr>\n",
              "  </thead>\n",
              "  <tbody>\n",
              "    <tr>\n",
              "      <th>Región de los Ríos</th>\n",
              "      <td>100</td>\n",
              "    </tr>\n",
              "    <tr>\n",
              "      <th>Región de Antofagasta</th>\n",
              "      <td>58</td>\n",
              "    </tr>\n",
              "    <tr>\n",
              "      <th>Región de Coquimbo</th>\n",
              "      <td>33</td>\n",
              "    </tr>\n",
              "    <tr>\n",
              "      <th>Región Metropolitana</th>\n",
              "      <td>30</td>\n",
              "    </tr>\n",
              "    <tr>\n",
              "      <th>Región de Magallanes y de la Antártica Chilena</th>\n",
              "      <td>30</td>\n",
              "    </tr>\n",
              "  </tbody>\n",
              "</table>\n",
              "</div>\n",
              "      <button class=\"colab-df-convert\" onclick=\"convertToInteractive('df-3653a472-541b-4077-8963-02ff1339fbe4')\"\n",
              "              title=\"Convert this dataframe to an interactive table.\"\n",
              "              style=\"display:none;\">\n",
              "        \n",
              "  <svg xmlns=\"http://www.w3.org/2000/svg\" height=\"24px\"viewBox=\"0 0 24 24\"\n",
              "       width=\"24px\">\n",
              "    <path d=\"M0 0h24v24H0V0z\" fill=\"none\"/>\n",
              "    <path d=\"M18.56 5.44l.94 2.06.94-2.06 2.06-.94-2.06-.94-.94-2.06-.94 2.06-2.06.94zm-11 1L8.5 8.5l.94-2.06 2.06-.94-2.06-.94L8.5 2.5l-.94 2.06-2.06.94zm10 10l.94 2.06.94-2.06 2.06-.94-2.06-.94-.94-2.06-.94 2.06-2.06.94z\"/><path d=\"M17.41 7.96l-1.37-1.37c-.4-.4-.92-.59-1.43-.59-.52 0-1.04.2-1.43.59L10.3 9.45l-7.72 7.72c-.78.78-.78 2.05 0 2.83L4 21.41c.39.39.9.59 1.41.59.51 0 1.02-.2 1.41-.59l7.78-7.78 2.81-2.81c.8-.78.8-2.07 0-2.86zM5.41 20L4 18.59l7.72-7.72 1.47 1.35L5.41 20z\"/>\n",
              "  </svg>\n",
              "      </button>\n",
              "      \n",
              "  <style>\n",
              "    .colab-df-container {\n",
              "      display:flex;\n",
              "      flex-wrap:wrap;\n",
              "      gap: 12px;\n",
              "    }\n",
              "\n",
              "    .colab-df-convert {\n",
              "      background-color: #E8F0FE;\n",
              "      border: none;\n",
              "      border-radius: 50%;\n",
              "      cursor: pointer;\n",
              "      display: none;\n",
              "      fill: #1967D2;\n",
              "      height: 32px;\n",
              "      padding: 0 0 0 0;\n",
              "      width: 32px;\n",
              "    }\n",
              "\n",
              "    .colab-df-convert:hover {\n",
              "      background-color: #E2EBFA;\n",
              "      box-shadow: 0px 1px 2px rgba(60, 64, 67, 0.3), 0px 1px 3px 1px rgba(60, 64, 67, 0.15);\n",
              "      fill: #174EA6;\n",
              "    }\n",
              "\n",
              "    [theme=dark] .colab-df-convert {\n",
              "      background-color: #3B4455;\n",
              "      fill: #D2E3FC;\n",
              "    }\n",
              "\n",
              "    [theme=dark] .colab-df-convert:hover {\n",
              "      background-color: #434B5C;\n",
              "      box-shadow: 0px 1px 3px 1px rgba(0, 0, 0, 0.15);\n",
              "      filter: drop-shadow(0px 1px 2px rgba(0, 0, 0, 0.3));\n",
              "      fill: #FFFFFF;\n",
              "    }\n",
              "  </style>\n",
              "\n",
              "      <script>\n",
              "        const buttonEl =\n",
              "          document.querySelector('#df-3653a472-541b-4077-8963-02ff1339fbe4 button.colab-df-convert');\n",
              "        buttonEl.style.display =\n",
              "          google.colab.kernel.accessAllowed ? 'block' : 'none';\n",
              "\n",
              "        async function convertToInteractive(key) {\n",
              "          const element = document.querySelector('#df-3653a472-541b-4077-8963-02ff1339fbe4');\n",
              "          const dataTable =\n",
              "            await google.colab.kernel.invokeFunction('convertToInteractive',\n",
              "                                                     [key], {});\n",
              "          if (!dataTable) return;\n",
              "\n",
              "          const docLinkHtml = 'Like what you see? Visit the ' +\n",
              "            '<a target=\"_blank\" href=https://colab.research.google.com/notebooks/data_table.ipynb>data table notebook</a>'\n",
              "            + ' to learn more about interactive tables.';\n",
              "          element.innerHTML = '';\n",
              "          dataTable['output_type'] = 'display_data';\n",
              "          await google.colab.output.renderOutput(dataTable, element);\n",
              "          const docLink = document.createElement('div');\n",
              "          docLink.innerHTML = docLinkHtml;\n",
              "          element.appendChild(docLink);\n",
              "        }\n",
              "      </script>\n",
              "    </div>\n",
              "  </div>\n",
              "  "
            ]
          },
          "metadata": {},
          "execution_count": 16
        }
      ],
      "source": [
        "# Interés por región de Chile.\n",
        "# Interest by Region, ordenado de mayor a menor\n",
        "df = pytrend.interest_by_region().sort_values('pedidosya', ascending = False)\n",
        "\n",
        "df.head()"
      ]
    },
    {
      "cell_type": "markdown",
      "source": [
        "De esta forma podemos observar, que la región líder en búsquedas relativas para los últimos 5 años  (parámetro por defecto para timeframe) es  La Región de los Ríos y en su contraparte se encuentra la Región de Aysén del General Carlos Ibáñez del Campo (XI Región).\n",
        "\n",
        "* *Nota: las regiones pueden variar de acuerdo al momento en el que se ejecute el código.*"
      ],
      "metadata": {
        "id": "XvxVvIkXYC-O"
      }
    },
    {
      "cell_type": "code",
      "source": [
        "df.sort_values('pedidosya', ascending = False).plot(kind = 'bar', figsize = (12,5))\n",
        "plt.ylabel('TENDENCIA RELATIVA')\n",
        "plt.xticks(rotation = 90)\n",
        "plt.legend().remove()\n",
        "plt.title('Interés por región en Chile', fontsize = 15)\n",
        "plt.show()"
      ],
      "metadata": {
        "colab": {
          "base_uri": "https://localhost:8080/",
          "height": 579
        },
        "id": "qxwYL1VoMVDA",
        "outputId": "a438d043-f09d-4f02-8f1f-ae52526118f7"
      },
      "execution_count": 17,
      "outputs": [
        {
          "output_type": "display_data",
          "data": {
            "text/plain": [
              "<Figure size 864x360 with 1 Axes>"
            ],
            "image/png": "[encoded data removed]"
          },
          "metadata": {
            "needs_background": "light"
          }
        }
      ]
    },
    {
      "cell_type": "markdown",
      "source": [
        "Si bien el interés a lo largo del tiempo es interesante, también podemos usa las tendencias de Google para encontrar temas, consultas o sugerencias relacionadas. Lo que nos ayudara a entender el contexto de las tendencias y a mejorar la búsqueda."
      ],
      "metadata": {
        "id": "Az18xExhYGcX"
      }
    },
    {
      "cell_type": "markdown",
      "metadata": {
        "id": "HTGbT4yO5rbE"
      },
      "source": [
        "#### **Temas relacionados**\n",
        "PyTrends también nos da la posibilidad de acceder a temas que se relacionan con nuestra palabra clave principal. En este caso, usando el método `pytrend.related_topics()` (el cual no requiere parámetros) podemos obtener un diccionario de datos de información relacionada. La estructura de este diccionario contiene una palabra clave y dos subclaves de temas relacionados:\n",
        "* **top**: contiene los temas relacionados más populares,\n",
        "* **rising**: contiene temas relacionados con el mayor aumento en la frecuencia de búsqueda desde el último período de tiempo.\n"
      ]
    },
    {
      "cell_type": "code",
      "execution_count": 18,
      "metadata": {
        "colab": {
          "base_uri": "https://localhost:8080/"
        },
        "id": "rt3s2XSn5Tjf",
        "outputId": "234bafba-ca49-4f53-f2f5-3029524bf1c3"
      },
      "outputs": [
        {
          "output_type": "stream",
          "name": "stdout",
          "text": [
            "Top\n",
            "   value  hasData topic_title topic_type\n",
            "0    100     True   PedidosYa   Compañía\n",
            "1     10     True       Cupón       Tema\n",
            "2      9     True      Rebate       Tema\n",
            "3      7     True       Rappi   Compañía\n",
            "Rising\n",
            "   value formattedValue topic_title topic_type\n",
            "0    170         +170 %      Rebate       Tema\n",
            "1    130         +130 %       Cupón       Tema\n",
            "2    100         +100 %       Rappi   Compañía\n"
          ]
        }
      ],
      "source": [
        "# Temas relacionados a pedidosya\n",
        "temas_relacionados = pytrend.related_topics()\n",
        "print('Top')\n",
        "print(temas_relacionados['pedidosya']['top'].drop(['formattedValue', 'link', 'topic_mid'], axis = 1))\n",
        "print('Rising')\n",
        "print(temas_relacionados['pedidosya']['rising'].drop(['link', 'topic_mid'], axis = 1))"
      ]
    },
    {
      "cell_type": "markdown",
      "metadata": {
        "id": "fGtRfVV851oO"
      },
      "source": [
        "#### **Consultas relacionadas**\n",
        "Al igual que con los temas relacionados, nos puede interesar explorar las consultas que están estrechamente relacionadas con nuestras palabras claves principales.\n",
        " Para ello nos podemos apoyar en el método `pytrend.related_queries()`, el cual nos entrega un diccionario que contiene una palabra clave y dos subclaves de consultas relacionadas:\n",
        "* **top**: las consultas de búsqueda más populares,\n",
        "* **rising**: consultas con el mayor aumento en la frecuencia de búsqueda desde el último período de tiempo."
      ]
    },
    {
      "cell_type": "code",
      "execution_count": 19,
      "metadata": {
        "id": "3cdYdQsf514X",
        "colab": {
          "base_uri": "https://localhost:8080/"
        },
        "outputId": "545a1121-88c3-4955-d257-6cc6f39c1429"
      },
      "outputs": [
        {
          "output_type": "stream",
          "name": "stdout",
          "text": [
            "Top\n",
            "                     query  value\n",
            "0  cupones pedidosya chile    100\n",
            "Rising\n",
            "                     query   value\n",
            "0  cupones pedidosya chile  606650\n"
          ]
        }
      ],
      "source": [
        "# Consultas relacionadas a pedidosya\n",
        "consultas_relacionadas = pytrend.related_queries()\n",
        "print('Top')\n",
        "print(consultas_relacionadas['pedidosya']['top'])\n",
        "print('Rising')\n",
        "print(consultas_relacionadas['pedidosya']['rising'])"
      ]
    },
    {
      "cell_type": "markdown",
      "metadata": {
        "id": "H9gQ1fbK5qJ0"
      },
      "source": [
        "#### **Sugerencias**\n",
        "\n",
        "El método `pytrend.suggestions(keyword)` nos sugiere una lista de palabras clave adicionales que se pueden usar para refinar una búsqueda de tendencias.\n"
      ]
    },
    {
      "cell_type": "code",
      "execution_count": 20,
      "metadata": {
        "colab": {
          "base_uri": "https://localhost:8080/",
          "height": 0
        },
        "id": "12gTln677C6i",
        "outputId": "1161cf4f-ccf2-4ce3-c9da-0c374093fc0b"
      },
      "outputs": [
        {
          "output_type": "execute_result",
          "data": {
            "text/plain": [
              "           title                                              type\n",
              "0      PedidosYa                                          Compañía\n",
              "1          iFood                                           Empresa\n",
              "2  Delivery Hero                                           Empresa\n",
              "3     La Cabrera  Restaurante argentino en Buenos Aires, Argentina\n",
              "4          Atrix              Tienda outlet en Montevideo, Uruguay"
            ],
            "text/html": [
              "\n",
              "  <div id=\"df-1fcf1422-5079-4341-a8ca-1439e385f56c\">\n",
              "    <div class=\"colab-df-container\">\n",
              "      <div>\n",
              "<style scoped>\n",
              "    .dataframe tbody tr th:only-of-type {\n",
              "        vertical-align: middle;\n",
              "    }\n",
              "\n",
              "    .dataframe tbody tr th {\n",
              "        vertical-align: top;\n",
              "    }\n",
              "\n",
              "    .dataframe thead th {\n",
              "        text-align: right;\n",
              "    }\n",
              "</style>\n",
              "<table border=\"1\" class=\"dataframe\">\n",
              "  <thead>\n",
              "    <tr style=\"text-align: right;\">\n",
              "      <th></th>\n",
              "      <th>title</th>\n",
              "      <th>type</th>\n",
              "    </tr>\n",
              "  </thead>\n",
              "  <tbody>\n",
              "    <tr>\n",
              "      <th>0</th>\n",
              "      <td>PedidosYa</td>\n",
              "      <td>Compañía</td>\n",
              "    </tr>\n",
              "    <tr>\n",
              "      <th>1</th>\n",
              "      <td>iFood</td>\n",
              "      <td>Empresa</td>\n",
              "    </tr>\n",
              "    <tr>\n",
              "      <th>2</th>\n",
              "      <td>Delivery Hero</td>\n",
              "      <td>Empresa</td>\n",
              "    </tr>\n",
              "    <tr>\n",
              "      <th>3</th>\n",
              "      <td>La Cabrera</td>\n",
              "      <td>Restaurante argentino en Buenos Aires, Argentina</td>\n",
              "    </tr>\n",
              "    <tr>\n",
              "      <th>4</th>\n",
              "      <td>Atrix</td>\n",
              "      <td>Tienda outlet en Montevideo, Uruguay</td>\n",
              "    </tr>\n",
              "  </tbody>\n",
              "</table>\n",
              "</div>\n",
              "      <button class=\"colab-df-convert\" onclick=\"convertToInteractive('df-1fcf1422-5079-4341-a8ca-1439e385f56c')\"\n",
              "              title=\"Convert this dataframe to an interactive table.\"\n",
              "              style=\"display:none;\">\n",
              "        \n",
              "  <svg xmlns=\"http://www.w3.org/2000/svg\" height=\"24px\"viewBox=\"0 0 24 24\"\n",
              "       width=\"24px\">\n",
              "    <path d=\"M0 0h24v24H0V0z\" fill=\"none\"/>\n",
              "    <path d=\"M18.56 5.44l.94 2.06.94-2.06 2.06-.94-2.06-.94-.94-2.06-.94 2.06-2.06.94zm-11 1L8.5 8.5l.94-2.06 2.06-.94-2.06-.94L8.5 2.5l-.94 2.06-2.06.94zm10 10l.94 2.06.94-2.06 2.06-.94-2.06-.94-.94-2.06-.94 2.06-2.06.94z\"/><path d=\"M17.41 7.96l-1.37-1.37c-.4-.4-.92-.59-1.43-.59-.52 0-1.04.2-1.43.59L10.3 9.45l-7.72 7.72c-.78.78-.78 2.05 0 2.83L4 21.41c.39.39.9.59 1.41.59.51 0 1.02-.2 1.41-.59l7.78-7.78 2.81-2.81c.8-.78.8-2.07 0-2.86zM5.41 20L4 18.59l7.72-7.72 1.47 1.35L5.41 20z\"/>\n",
              "  </svg>\n",
              "      </button>\n",
              "      \n",
              "  <style>\n",
              "    .colab-df-container {\n",
              "      display:flex;\n",
              "      flex-wrap:wrap;\n",
              "      gap: 12px;\n",
              "    }\n",
              "\n",
              "    .colab-df-convert {\n",
              "      background-color: #E8F0FE;\n",
              "      border: none;\n",
              "      border-radius: 50%;\n",
              "      cursor: pointer;\n",
              "      display: none;\n",
              "      fill: #1967D2;\n",
              "      height: 32px;\n",
              "      padding: 0 0 0 0;\n",
              "      width: 32px;\n",
              "    }\n",
              "\n",
              "    .colab-df-convert:hover {\n",
              "      background-color: #E2EBFA;\n",
              "      box-shadow: 0px 1px 2px rgba(60, 64, 67, 0.3), 0px 1px 3px 1px rgba(60, 64, 67, 0.15);\n",
              "      fill: #174EA6;\n",
              "    }\n",
              "\n",
              "    [theme=dark] .colab-df-convert {\n",
              "      background-color: #3B4455;\n",
              "      fill: #D2E3FC;\n",
              "    }\n",
              "\n",
              "    [theme=dark] .colab-df-convert:hover {\n",
              "      background-color: #434B5C;\n",
              "      box-shadow: 0px 1px 3px 1px rgba(0, 0, 0, 0.15);\n",
              "      filter: drop-shadow(0px 1px 2px rgba(0, 0, 0, 0.3));\n",
              "      fill: #FFFFFF;\n",
              "    }\n",
              "  </style>\n",
              "\n",
              "      <script>\n",
              "        const buttonEl =\n",
              "          document.querySelector('#df-1fcf1422-5079-4341-a8ca-1439e385f56c button.colab-df-convert');\n",
              "        buttonEl.style.display =\n",
              "          google.colab.kernel.accessAllowed ? 'block' : 'none';\n",
              "\n",
              "        async function convertToInteractive(key) {\n",
              "          const element = document.querySelector('#df-1fcf1422-5079-4341-a8ca-1439e385f56c');\n",
              "          const dataTable =\n",
              "            await google.colab.kernel.invokeFunction('convertToInteractive',\n",
              "                                                     [key], {});\n",
              "          if (!dataTable) return;\n",
              "\n",
              "          const docLinkHtml = 'Like what you see? Visit the ' +\n",
              "            '<a target=\"_blank\" href=https://colab.research.google.com/notebooks/data_table.ipynb>data table notebook</a>'\n",
              "            + ' to learn more about interactive tables.';\n",
              "          element.innerHTML = '';\n",
              "          dataTable['output_type'] = 'display_data';\n",
              "          await google.colab.output.renderOutput(dataTable, element);\n",
              "          const docLink = document.createElement('div');\n",
              "          docLink.innerHTML = docLinkHtml;\n",
              "          element.appendChild(docLink);\n",
              "        }\n",
              "      </script>\n",
              "    </div>\n",
              "  </div>\n",
              "  "
            ]
          },
          "metadata": {},
          "execution_count": 20
        }
      ],
      "source": [
        "# Sugerencia de palabras claves, adicionales.\n",
        "sugerencias = pd.DataFrame(pytrend.suggestions('pedidosya')).drop('mid', axis = 1)\n",
        "sugerencias.head()"
      ]
    },
    {
      "cell_type": "markdown",
      "metadata": {
        "id": "kXMdn2VI6TIz"
      },
      "source": [
        "#### **Tendencias de búsquedas diarias**\n",
        "Puede que nos interese conocer cuáles son las tendencias de búsquedas diarias. En este caso lo podemos hacer por país o a nivel mundial, apoyándonos en el método `pytrends.trending_searches()`."
      ]
    },
    {
      "cell_type": "code",
      "execution_count": 21,
      "metadata": {
        "colab": {
          "base_uri": "https://localhost:8080/",
          "height": 0
        },
        "id": "oJ_WnYM76TvV",
        "outputId": "44db351f-2af0-43fa-ca4e-f1cfdf7fd390"
      },
      "outputs": [
        {
          "output_type": "execute_result",
          "data": {
            "text/plain": [
              "                        0\n",
              "0   Flamengo  U. Católica\n",
              "1       Copa Libertadores\n",
              "2       Metro de Santiago\n",
              "3  Southampton  Liverpool\n",
              "4     Estado de excepción"
            ],
            "text/html": [
              "\n",
              "  <div id=\"df-0c3b4abc-a50c-4ace-8c2a-778b12d2f647\">\n",
              "    <div class=\"colab-df-container\">\n",
              "      <div>\n",
              "<style scoped>\n",
              "    .dataframe tbody tr th:only-of-type {\n",
              "        vertical-align: middle;\n",
              "    }\n",
              "\n",
              "    .dataframe tbody tr th {\n",
              "        vertical-align: top;\n",
              "    }\n",
              "\n",
              "    .dataframe thead th {\n",
              "        text-align: right;\n",
              "    }\n",
              "</style>\n",
              "<table border=\"1\" class=\"dataframe\">\n",
              "  <thead>\n",
              "    <tr style=\"text-align: right;\">\n",
              "      <th></th>\n",
              "      <th>0</th>\n",
              "    </tr>\n",
              "  </thead>\n",
              "  <tbody>\n",
              "    <tr>\n",
              "      <th>0</th>\n",
              "      <td>Flamengo  U. Católica</td>\n",
              "    </tr>\n",
              "    <tr>\n",
              "      <th>1</th>\n",
              "      <td>Copa Libertadores</td>\n",
              "    </tr>\n",
              "    <tr>\n",
              "      <th>2</th>\n",
              "      <td>Metro de Santiago</td>\n",
              "    </tr>\n",
              "    <tr>\n",
              "      <th>3</th>\n",
              "      <td>Southampton  Liverpool</td>\n",
              "    </tr>\n",
              "    <tr>\n",
              "      <th>4</th>\n",
              "      <td>Estado de excepción</td>\n",
              "    </tr>\n",
              "  </tbody>\n",
              "</table>\n",
              "</div>\n",
              "      <button class=\"colab-df-convert\" onclick=\"convertToInteractive('df-0c3b4abc-a50c-4ace-8c2a-778b12d2f647')\"\n",
              "              title=\"Convert this dataframe to an interactive table.\"\n",
              "              style=\"display:none;\">\n",
              "        \n",
              "  <svg xmlns=\"http://www.w3.org/2000/svg\" height=\"24px\"viewBox=\"0 0 24 24\"\n",
              "       width=\"24px\">\n",
              "    <path d=\"M0 0h24v24H0V0z\" fill=\"none\"/>\n",
              "    <path d=\"M18.56 5.44l.94 2.06.94-2.06 2.06-.94-2.06-.94-.94-2.06-.94 2.06-2.06.94zm-11 1L8.5 8.5l.94-2.06 2.06-.94-2.06-.94L8.5 2.5l-.94 2.06-2.06.94zm10 10l.94 2.06.94-2.06 2.06-.94-2.06-.94-.94-2.06-.94 2.06-2.06.94z\"/><path d=\"M17.41 7.96l-1.37-1.37c-.4-.4-.92-.59-1.43-.59-.52 0-1.04.2-1.43.59L10.3 9.45l-7.72 7.72c-.78.78-.78 2.05 0 2.83L4 21.41c.39.39.9.59 1.41.59.51 0 1.02-.2 1.41-.59l7.78-7.78 2.81-2.81c.8-.78.8-2.07 0-2.86zM5.41 20L4 18.59l7.72-7.72 1.47 1.35L5.41 20z\"/>\n",
              "  </svg>\n",
              "      </button>\n",
              "      \n",
              "  <style>\n",
              "    .colab-df-container {\n",
              "      display:flex;\n",
              "      flex-wrap:wrap;\n",
              "      gap: 12px;\n",
              "    }\n",
              "\n",
              "    .colab-df-convert {\n",
              "      background-color: #E8F0FE;\n",
              "      border: none;\n",
              "      border-radius: 50%;\n",
              "      cursor: pointer;\n",
              "      display: none;\n",
              "      fill: #1967D2;\n",
              "      height: 32px;\n",
              "      padding: 0 0 0 0;\n",
              "      width: 32px;\n",
              "    }\n",
              "\n",
              "    .colab-df-convert:hover {\n",
              "      background-color: #E2EBFA;\n",
              "      box-shadow: 0px 1px 2px rgba(60, 64, 67, 0.3), 0px 1px 3px 1px rgba(60, 64, 67, 0.15);\n",
              "      fill: #174EA6;\n",
              "    }\n",
              "\n",
              "    [theme=dark] .colab-df-convert {\n",
              "      background-color: #3B4455;\n",
              "      fill: #D2E3FC;\n",
              "    }\n",
              "\n",
              "    [theme=dark] .colab-df-convert:hover {\n",
              "      background-color: #434B5C;\n",
              "      box-shadow: 0px 1px 3px 1px rgba(0, 0, 0, 0.15);\n",
              "      filter: drop-shadow(0px 1px 2px rgba(0, 0, 0, 0.3));\n",
              "      fill: #FFFFFF;\n",
              "    }\n",
              "  </style>\n",
              "\n",
              "      <script>\n",
              "        const buttonEl =\n",
              "          document.querySelector('#df-0c3b4abc-a50c-4ace-8c2a-778b12d2f647 button.colab-df-convert');\n",
              "        buttonEl.style.display =\n",
              "          google.colab.kernel.accessAllowed ? 'block' : 'none';\n",
              "\n",
              "        async function convertToInteractive(key) {\n",
              "          const element = document.querySelector('#df-0c3b4abc-a50c-4ace-8c2a-778b12d2f647');\n",
              "          const dataTable =\n",
              "            await google.colab.kernel.invokeFunction('convertToInteractive',\n",
              "                                                     [key], {});\n",
              "          if (!dataTable) return;\n",
              "\n",
              "          const docLinkHtml = 'Like what you see? Visit the ' +\n",
              "            '<a target=\"_blank\" href=https://colab.research.google.com/notebooks/data_table.ipynb>data table notebook</a>'\n",
              "            + ' to learn more about interactive tables.';\n",
              "          element.innerHTML = '';\n",
              "          dataTable['output_type'] = 'display_data';\n",
              "          await google.colab.output.renderOutput(dataTable, element);\n",
              "          const docLink = document.createElement('div');\n",
              "          docLink.innerHTML = docLinkHtml;\n",
              "          element.appendChild(docLink);\n",
              "        }\n",
              "      </script>\n",
              "    </div>\n",
              "  </div>\n",
              "  "
            ]
          },
          "metadata": {},
          "execution_count": 21
        }
      ],
      "source": [
        "# Tendencias de búsquedas diarias  en Chile\n",
        "tendencia_chile = pytrend.trending_searches(pn='chile')\n",
        "tendencia_chile.head()"
      ]
    },
    {
      "cell_type": "markdown",
      "source": [
        "#### **Tendencias de búsqueda en tiempo real**\n",
        "Con el método `pytrend.realtime_trending_searches` podemos acceder a los datos que corresponden a las tendencias de búsqueda en tiempo real para un país o a nivel mundial."
      ],
      "metadata": {
        "id": "ApOZ3XEIPkEd"
      }
    },
    {
      "cell_type": "code",
      "source": [
        "# Tendencias de búsqueda en tiempo real \n",
        "tendencias_real_time = pytrend.realtime_trending_searches(pn = 'CL')\n",
        "tendencias_real_time.head()"
      ],
      "metadata": {
        "colab": {
          "base_uri": "https://localhost:8080/",
          "height": 0
        },
        "id": "Zlmac95dPk9V",
        "outputId": "dcccd4e9-c8ae-4e09-beac-310631afa349"
      },
      "execution_count": 22,
      "outputs": [
        {
          "output_type": "execute_result",
          "data": {
            "text/plain": [
              "                                               title  \\\n",
              "0  Copa Sudamericana, Atlético Clube Goianiense, ...   \n",
              "1  Colo-Colo, Copa Libertadores, Club Deportivo U...   \n",
              "2  Copa Libertadores, Club Nacional de Football, ...   \n",
              "3  UEFA Europa League, Rangers F.C., Eintracht Fr...   \n",
              "4                           Argentina, White, Racism   \n",
              "\n",
              "                                         entityNames  \n",
              "0  [Copa Sudamericana, Atlético Clube Goianiense,...  \n",
              "1  [Colo-Colo, Copa Libertadores, Club Deportivo ...  \n",
              "2  [Copa Libertadores, Club Nacional de Football,...  \n",
              "3  [UEFA Europa League, Rangers F.C., Eintracht F...  \n",
              "4                         [Argentina, White, Racism]  "
            ],
            "text/html": [
              "\n",
              "  <div id=\"df-f5102814-5fdc-4801-929c-652255106cbb\">\n",
              "    <div class=\"colab-df-container\">\n",
              "      <div>\n",
              "<style scoped>\n",
              "    .dataframe tbody tr th:only-of-type {\n",
              "        vertical-align: middle;\n",
              "    }\n",
              "\n",
              "    .dataframe tbody tr th {\n",
              "        vertical-align: top;\n",
              "    }\n",
              "\n",
              "    .dataframe thead th {\n",
              "        text-align: right;\n",
              "    }\n",
              "</style>\n",
              "<table border=\"1\" class=\"dataframe\">\n",
              "  <thead>\n",
              "    <tr style=\"text-align: right;\">\n",
              "      <th></th>\n",
              "      <th>title</th>\n",
              "      <th>entityNames</th>\n",
              "    </tr>\n",
              "  </thead>\n",
              "  <tbody>\n",
              "    <tr>\n",
              "      <th>0</th>\n",
              "      <td>Copa Sudamericana, Atlético Clube Goianiense, ...</td>\n",
              "      <td>[Copa Sudamericana, Atlético Clube Goianiense,...</td>\n",
              "    </tr>\n",
              "    <tr>\n",
              "      <th>1</th>\n",
              "      <td>Colo-Colo, Copa Libertadores, Club Deportivo U...</td>\n",
              "      <td>[Colo-Colo, Copa Libertadores, Club Deportivo ...</td>\n",
              "    </tr>\n",
              "    <tr>\n",
              "      <th>2</th>\n",
              "      <td>Copa Libertadores, Club Nacional de Football, ...</td>\n",
              "      <td>[Copa Libertadores, Club Nacional de Football,...</td>\n",
              "    </tr>\n",
              "    <tr>\n",
              "      <th>3</th>\n",
              "      <td>UEFA Europa League, Rangers F.C., Eintracht Fr...</td>\n",
              "      <td>[UEFA Europa League, Rangers F.C., Eintracht F...</td>\n",
              "    </tr>\n",
              "    <tr>\n",
              "      <th>4</th>\n",
              "      <td>Argentina, White, Racism</td>\n",
              "      <td>[Argentina, White, Racism]</td>\n",
              "    </tr>\n",
              "  </tbody>\n",
              "</table>\n",
              "</div>\n",
              "      <button class=\"colab-df-convert\" onclick=\"convertToInteractive('df-f5102814-5fdc-4801-929c-652255106cbb')\"\n",
              "              title=\"Convert this dataframe to an interactive table.\"\n",
              "              style=\"display:none;\">\n",
              "        \n",
              "  <svg xmlns=\"http://www.w3.org/2000/svg\" height=\"24px\"viewBox=\"0 0 24 24\"\n",
              "       width=\"24px\">\n",
              "    <path d=\"M0 0h24v24H0V0z\" fill=\"none\"/>\n",
              "    <path d=\"M18.56 5.44l.94 2.06.94-2.06 2.06-.94-2.06-.94-.94-2.06-.94 2.06-2.06.94zm-11 1L8.5 8.5l.94-2.06 2.06-.94-2.06-.94L8.5 2.5l-.94 2.06-2.06.94zm10 10l.94 2.06.94-2.06 2.06-.94-2.06-.94-.94-2.06-.94 2.06-2.06.94z\"/><path d=\"M17.41 7.96l-1.37-1.37c-.4-.4-.92-.59-1.43-.59-.52 0-1.04.2-1.43.59L10.3 9.45l-7.72 7.72c-.78.78-.78 2.05 0 2.83L4 21.41c.39.39.9.59 1.41.59.51 0 1.02-.2 1.41-.59l7.78-7.78 2.81-2.81c.8-.78.8-2.07 0-2.86zM5.41 20L4 18.59l7.72-7.72 1.47 1.35L5.41 20z\"/>\n",
              "  </svg>\n",
              "      </button>\n",
              "      \n",
              "  <style>\n",
              "    .colab-df-container {\n",
              "      display:flex;\n",
              "      flex-wrap:wrap;\n",
              "      gap: 12px;\n",
              "    }\n",
              "\n",
              "    .colab-df-convert {\n",
              "      background-color: #E8F0FE;\n",
              "      border: none;\n",
              "      border-radius: 50%;\n",
              "      cursor: pointer;\n",
              "      display: none;\n",
              "      fill: #1967D2;\n",
              "      height: 32px;\n",
              "      padding: 0 0 0 0;\n",
              "      width: 32px;\n",
              "    }\n",
              "\n",
              "    .colab-df-convert:hover {\n",
              "      background-color: #E2EBFA;\n",
              "      box-shadow: 0px 1px 2px rgba(60, 64, 67, 0.3), 0px 1px 3px 1px rgba(60, 64, 67, 0.15);\n",
              "      fill: #174EA6;\n",
              "    }\n",
              "\n",
              "    [theme=dark] .colab-df-convert {\n",
              "      background-color: #3B4455;\n",
              "      fill: #D2E3FC;\n",
              "    }\n",
              "\n",
              "    [theme=dark] .colab-df-convert:hover {\n",
              "      background-color: #434B5C;\n",
              "      box-shadow: 0px 1px 3px 1px rgba(0, 0, 0, 0.15);\n",
              "      filter: drop-shadow(0px 1px 2px rgba(0, 0, 0, 0.3));\n",
              "      fill: #FFFFFF;\n",
              "    }\n",
              "  </style>\n",
              "\n",
              "      <script>\n",
              "        const buttonEl =\n",
              "          document.querySelector('#df-f5102814-5fdc-4801-929c-652255106cbb button.colab-df-convert');\n",
              "        buttonEl.style.display =\n",
              "          google.colab.kernel.accessAllowed ? 'block' : 'none';\n",
              "\n",
              "        async function convertToInteractive(key) {\n",
              "          const element = document.querySelector('#df-f5102814-5fdc-4801-929c-652255106cbb');\n",
              "          const dataTable =\n",
              "            await google.colab.kernel.invokeFunction('convertToInteractive',\n",
              "                                                     [key], {});\n",
              "          if (!dataTable) return;\n",
              "\n",
              "          const docLinkHtml = 'Like what you see? Visit the ' +\n",
              "            '<a target=\"_blank\" href=https://colab.research.google.com/notebooks/data_table.ipynb>data table notebook</a>'\n",
              "            + ' to learn more about interactive tables.';\n",
              "          element.innerHTML = '';\n",
              "          dataTable['output_type'] = 'display_data';\n",
              "          await google.colab.output.renderOutput(dataTable, element);\n",
              "          const docLink = document.createElement('div');\n",
              "          docLink.innerHTML = docLinkHtml;\n",
              "          element.appendChild(docLink);\n",
              "        }\n",
              "      </script>\n",
              "    </div>\n",
              "  </div>\n",
              "  "
            ]
          },
          "metadata": {},
          "execution_count": 22
        }
      ]
    },
    {
      "cell_type": "markdown",
      "source": [
        "#### Estas son algunas de las maneras en las que podemos apoyarnos en la API PyTrends, para dar fuerza a nuestros proyectos de datos. Las aplicaciones son variadas y dependen de nuestros intereses particulares. Algunas otras aplicaciones que podrían útiles, son:\n",
        "* Identificar nuevas palabras claves.\n",
        "* Localizar tendencias estacionales para apoyar estrategias.\n",
        "* Comparación de términos de búsquedas.\n",
        "* Seguimiento de la competencia.\n",
        "* Segmentación geográfica.\n",
        "* Tendencias en los diferentes canales de Google."
      ],
      "metadata": {
        "id": "Z-1xAMHuW7zZ"
      }
    }
  ],
  "metadata": {
    "colab": {
      "collapsed_sections": [
        "ugTmIfMwvcp0",
        "9pjwTK1z3MHn",
        "pzMMzmdkEtwg",
        "HTGbT4yO5rbE",
        "fGtRfVV851oO"
      ],
      "name": "Tendencias de búsqueda en Google utilizando PyTrends en Python.ipynb",
      "provenance": [],
      "mount_file_id": "1K8uwdxmHY0D-Hw9S6qqMUdB7zoUULYu-",
      "authorship_tag": "ABX9TyPKwZnn9TYOm5pZZUkTV2H0",
      "include_colab_link": true
    },
    "kernelspec": {
      "display_name": "Python 3",
      "name": "python3"
    },
    "language_info": {
      "name": "python"
    }
  },
  "nbformat": 4,
  "nbformat_minor": 0
}